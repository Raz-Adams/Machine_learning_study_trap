{
 "cells": [
  {
   "cell_type": "code",
   "execution_count": 2,
   "id": "31e04107",
   "metadata": {},
   "outputs": [],
   "source": [
    "import math, copy\n",
    "import numpy as np\n",
    "import matplotlib.pyplot as plt"
   ]
  },
  {
   "cell_type": "code",
   "execution_count": 4,
   "id": "5faeaea4",
   "metadata": {},
   "outputs": [],
   "source": [
    "#Loading data sets\n",
    "x_train = np.array([1.0,2.0]) #features\n",
    "y_train = np.array([300.0, 500.0])\n"
   ]
  },
  {
   "cell_type": "code",
   "execution_count": null,
   "id": "fdf71234",
   "metadata": {},
   "outputs": [],
   "source": [
    "#Function to calculate the cost. \n",
    "def compute_cost(x, y, w, b):\n",
    "\n",
    "    m = x.shape[0]\n",
    "    cost = 0\n",
    "\n",
    "    for i in range(m):\n",
    "        f_wb = w * x[i] + b                 #prediction for each input\n",
    "        cost = cost + (f_wb - y[i])**2      #mean squared error\n",
    "    total_cost = 1 / (2 * m) * cost         #average mean squared error \n",
    "\n",
    "    return total_cost\n",
    "   \n"
   ]
  },
  {
   "cell_type": "code",
   "execution_count": null,
   "id": "4f120a5e",
   "metadata": {},
   "outputs": [],
   "source": [
    "def compute_gradient(x, y, w, b):\n",
    "    \"\"\"\n",
    "    dj_dw(scalar): gradient of cost wrt parameter w\n",
    "    dj_db(scalar): gradient of cost wrt parameter b\"\"\"\n",
    "    #Number of training examples\n",
    "    m = x.shape[0]\n",
    "    dj_dw = 0\n",
    "    dj_db = 0\n",
    "\n",
    "    for i in range(m):\n",
    "        f_wb = w * x[i] + b\n",
    "        dj_dw_i = (f_wb - y[i]) * x[i]\n",
    "        dj_db_i = f_wb - y[i]\n",
    "        dj_db += dj_db_i\n",
    "        dj_dw += dj_dw_i\n",
    "    dj_dw = dj_dw / m\n",
    "    dj_db = dj_db / m\n",
    "\n",
    "    return dj_db, dj_dw\n"
   ]
  },
  {
   "cell_type": "code",
   "execution_count": null,
   "id": "fa987cbe",
   "metadata": {},
   "outputs": [],
   "source": [
    "def gradient_descent(x, y, w_in, b_in, alpha, num_iters, cost_function, gradient_function):\n",
    "\n",
    "\n",
    "    w = copy.deepcopy(w_in)\n",
    "    #An array to store cost J and w's at each iteration primarily for graphic for graphing\n",
    "    J_history = []\n",
    "    p_history = []\n",
    "    b = b_in\n",
    "    w = w_in\n",
    "\n",
    "    for i in range(num_iters):\n",
    "        #Calculate gradient and update parameters using grad function\n",
    "        dj_dw, dj_db = gradient_function(x, y, w, b)\n",
    "\n",
    "        #Update parameters using alpha(learing rate) and gradient\n",
    "        b = b - alpha * dj_db\n",
    "        w = w - alpha * dj_dw\n",
    "        "
   ]
  },
  {
   "cell_type": "code",
   "execution_count": null,
   "id": "95b02e64",
   "metadata": {},
   "outputs": [],
   "source": []
  }
 ],
 "metadata": {
  "kernelspec": {
   "display_name": "Python 3",
   "language": "python",
   "name": "python3"
  },
  "language_info": {
   "codemirror_mode": {
    "name": "ipython",
    "version": 3
   },
   "file_extension": ".py",
   "mimetype": "text/x-python",
   "name": "python",
   "nbconvert_exporter": "python",
   "pygments_lexer": "ipython3",
   "version": "3.13.7"
  }
 },
 "nbformat": 4,
 "nbformat_minor": 5
}
